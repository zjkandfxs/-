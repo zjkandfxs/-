{
 "cells": [
  {
   "cell_type": "code",
   "execution_count": 2,
   "outputs": [
    {
     "ename": "AttributeError",
     "evalue": "partially initialized module 'paddlehub' has no attribute 'Module' (most likely due to a circular import)",
     "output_type": "error",
     "traceback": [
      "\u001B[1;31m---------------------------------------------------------------------------\u001B[0m",
      "\u001B[1;31mAttributeError\u001B[0m                            Traceback (most recent call last)",
      "\u001B[1;32m~\\AppData\\Local\\Temp/ipykernel_12736/1746051637.py\u001B[0m in \u001B[0;36m<module>\u001B[1;34m\u001B[0m\n\u001B[1;32m----> 1\u001B[1;33m \u001B[1;32mimport\u001B[0m \u001B[0mpaddlehub\u001B[0m \u001B[1;32mas\u001B[0m \u001B[0mhub\u001B[0m\u001B[1;33m\u001B[0m\u001B[1;33m\u001B[0m\u001B[0m\n\u001B[0m\u001B[0;32m      2\u001B[0m \u001B[0mocr\u001B[0m \u001B[1;33m=\u001B[0m \u001B[0mhub\u001B[0m\u001B[1;33m.\u001B[0m\u001B[0mModule\u001B[0m\u001B[1;33m(\u001B[0m\u001B[0mname\u001B[0m\u001B[1;33m=\u001B[0m\u001B[1;34m\"chinese_ocr_db_crnn_mobile\"\u001B[0m\u001B[1;33m)\u001B[0m\u001B[1;33m\u001B[0m\u001B[1;33m\u001B[0m\u001B[0m\n",
      "\u001B[1;32mF:\\Anaconda\\envs\\PyTorch\\lib\\site-packages\\paddlehub\\__init__.py\u001B[0m in \u001B[0;36m<module>\u001B[1;34m\u001B[0m\n\u001B[0;32m     16\u001B[0m \u001B[0m__version__\u001B[0m \u001B[1;33m=\u001B[0m \u001B[1;34m'2.3.1'\u001B[0m\u001B[1;33m\u001B[0m\u001B[1;33m\u001B[0m\u001B[0m\n\u001B[0;32m     17\u001B[0m \u001B[1;33m\u001B[0m\u001B[0m\n\u001B[1;32m---> 18\u001B[1;33m \u001B[1;32mimport\u001B[0m \u001B[0mpaddle\u001B[0m\u001B[1;33m\u001B[0m\u001B[1;33m\u001B[0m\u001B[0m\n\u001B[0m\u001B[0;32m     19\u001B[0m \u001B[1;32mfrom\u001B[0m \u001B[0mpackaging\u001B[0m\u001B[1;33m.\u001B[0m\u001B[0mversion\u001B[0m \u001B[1;32mimport\u001B[0m \u001B[0mVersion\u001B[0m\u001B[1;33m\u001B[0m\u001B[1;33m\u001B[0m\u001B[0m\n\u001B[0;32m     20\u001B[0m \u001B[0m_paddle_version\u001B[0m \u001B[1;33m=\u001B[0m \u001B[0mVersion\u001B[0m\u001B[1;33m(\u001B[0m\u001B[0mpaddle\u001B[0m\u001B[1;33m.\u001B[0m\u001B[0m__version__\u001B[0m\u001B[1;33m)\u001B[0m\u001B[1;33m\u001B[0m\u001B[1;33m\u001B[0m\u001B[0m\n",
      "\u001B[1;32mF:\\tianchi\\paddle.py\u001B[0m in \u001B[0;36m<module>\u001B[1;34m\u001B[0m\n\u001B[0;32m      1\u001B[0m \u001B[1;32mimport\u001B[0m \u001B[0mpaddlehub\u001B[0m \u001B[1;32mas\u001B[0m \u001B[0mhub\u001B[0m\u001B[1;33m\u001B[0m\u001B[1;33m\u001B[0m\u001B[0m\n\u001B[1;32m----> 2\u001B[1;33m \u001B[0mocr\u001B[0m \u001B[1;33m=\u001B[0m \u001B[0mhub\u001B[0m\u001B[1;33m.\u001B[0m\u001B[0mModule\u001B[0m\u001B[1;33m(\u001B[0m\u001B[0mname\u001B[0m\u001B[1;33m=\u001B[0m\u001B[1;34m\"chinese_ocr_db_crnn_mobile\"\u001B[0m\u001B[1;33m)\u001B[0m\u001B[1;33m\u001B[0m\u001B[1;33m\u001B[0m\u001B[0m\n\u001B[0m",
      "\u001B[1;31mAttributeError\u001B[0m: partially initialized module 'paddlehub' has no attribute 'Module' (most likely due to a circular import)"
     ]
    }
   ],
   "source": [
    "import zipfile\n",
    "\n",
    "f = zipfile.ZipFile(\"/home/aistudio/data/data192060/mtwi_2018_task2_test.zip\",'r') # 压缩文件位置\n",
    "for file in f.namelist():\n",
    "    f.extract(file,\"/home/aistudio/test_data/\")               # 解压位置\n",
    "f.close()"
   ],
   "metadata": {
    "collapsed": false,
    "pycharm": {
     "name": "#%%\n"
    }
   }
  },
  {
   "cell_type": "code",
   "execution_count": 4,
   "outputs": [],
   "source": [
    "!pip install shapely -i https://pypi.tuna.tsinghua.edu.cn/simple\n",
    "!pip install pyclipper -i https://pypi.tuna.tsinghua.edu.cn/simple"
   ],
   "metadata": {
    "collapsed": false,
    "pycharm": {
     "name": "#%%\n"
    }
   }
  },
  {
   "cell_type": "code",
   "execution_count": null,
   "outputs": [],
   "source": [
    "import paddlehub as hub\n",
    "\n",
    "# 加载移动端预训练模型\n",
    "ocr = hub.Module(name=\"chinese_ocr_db_crnn_mobile\")"
   ],
   "metadata": {
    "collapsed": false,
    "pycharm": {
     "name": "#%%\n"
    }
   }
  },
  {
   "cell_type": "code",
   "execution_count": null,
   "outputs": [],
   "source": [
    "import cv2\n",
    "import matplotlib.pyplot as plt\n",
    "import matplotlib.image as mpimg\n",
    "import glob\n",
    "# 读取测试文件夹test.txt中的照片路径\n",
    "image_path = '/home/aistudio/test_data/icpr_mtwi_task2/image_test/*.jpg'\n",
    "imageLists = glob.glob(image_path)\n",
    "test_img_path = []\n",
    "for item in imageLists:\n",
    "    test_img_path.append(item)"
   ],
   "metadata": {
    "collapsed": false,
    "pycharm": {
     "name": "#%%\n"
    }
   }
  },
  {
   "cell_type": "code",
   "execution_count": null,
   "outputs": [],
   "source": [
    "import cv2\n",
    "import os\n",
    "os.environ['CUDA_VISIBLE_DEVICES']='0,1,2'\n",
    "np_images =[cv2.imread(image_path) for image_path in test_img_path]\n",
    "results = ocr.recognize_text(\n",
    "                    images=np_images,         # 图片数据，ndarray.shape 为 [H, W, C]，BGR格式；\n",
    "                    use_gpu=True,            # 是否使用 GPU；若使用GPU，请先设置CUDA_VISIBLE_DEVICES环境变量\n",
    "                    output_dir='ocr_result',  # 图片的保存路径，默认设为 ocr_result；\n",
    "                    visualization=False,       # 是否将识别结果保存为图片文件；\n",
    "                    box_thresh=0.5,           # 检测文本框置信度的阈值；\n",
    "                    text_thresh=0.5)          # 识别中文文本置信度的阈值；\n",
    "\n",
    "n=0\n",
    "for result in results:\n",
    "    desktop_path = \"/home/aistudio/submission/\"\n",
    "    path1=str(os.path.basename(test_img_path[n]))\n",
    "    name=path1.replace('jpg.jpg','jpg')\n",
    "    full_path = desktop_path + name + '.txt'\n",
    "    file = open(full_path, 'w')\n",
    "    data = result['data']\n",
    "    n+=1\n",
    "    for infomation in data:\n",
    "        list=infomation['text_box_position']\n",
    "        list.append(list[0])\n",
    "        list=list[1:5]\n",
    "        list=np.array(list).reshape(1,8)\n",
    "        list.tolist()\n",
    "        box=','.join(str(x) for x in list[0])+','+infomation['text']+'\\n'\n",
    "        file.write(box)\n"
   ],
   "metadata": {
    "collapsed": false,
    "pycharm": {
     "name": "#%%\n"
    }
   }
  }
 ],
 "metadata": {
  "kernelspec": {
   "display_name": "Python 3",
   "language": "python",
   "name": "python3"
  },
  "language_info": {
   "codemirror_mode": {
    "name": "ipython",
    "version": 2
   },
   "file_extension": ".py",
   "mimetype": "text/x-python",
   "name": "python",
   "nbconvert_exporter": "python",
   "pygments_lexer": "ipython2",
   "version": "2.7.6"
  }
 },
 "nbformat": 4,
 "nbformat_minor": 0
}